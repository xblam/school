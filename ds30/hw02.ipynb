{
 "cells": [
  {
   "cell_type": "markdown",
   "metadata": {},
   "source": [
    "# Structures and dictionaries\n",
    "In this homework, we'll explore structures and in particular dictionaries, including what they might mean and what we can do with them. We start with a Facebook-like \"likes\" dictionary of who likes who. This is not reflexive. The fact that X likes Y does not mean that Y likes X! Run the following cell to create such a dictionary. "
   ]
  },
  {
   "cell_type": "code",
   "execution_count": 9,
   "metadata": {},
   "outputs": [
    {
     "name": "stdout",
     "output_type": "stream",
     "text": [
      "{'Amy': {'Mike'},\n",
      " 'Emily': {'Amy'},\n",
      " 'George': {'Mae', 'Emily', 'Frank'},\n",
      " 'John': {'Amy', 'Mike'},\n",
      " 'Mae': {'John'}}\n"
     ]
    }
   ],
   "source": [
    "likes = { \n",
    "     'Amy': {'Mike'}, \n",
    "     'John': {'Mike', 'Amy'}, \n",
    "     'Emily': {'Amy'},\n",
    "     'George': {'Frank', 'Emily', 'Mae'}, \n",
    "     'Mae': {'John'}\n",
    "}\n",
    "from pprint import pprint\n",
    "pprint(likes)"
   ]
  },
  {
   "cell_type": "markdown",
   "metadata": {},
   "source": [
    "Question 1: in the cell below, write a function that takes one argument that is a dictionary structured like the one above, and returns the whole set of people involved in the dictionary as either keys or parts of values. "
   ]
  },
  {
   "cell_type": "code",
   "execution_count": 33,
   "metadata": {},
   "outputs": [],
   "source": [
    "def everyone(data):\n",
    "    # BEGIN SOLUTION\n",
    "    names = set()\n",
    "    for k, v in data.items(): # vals might be sets\n",
    "        names.add(k)\n",
    "        for p in v:\n",
    "            names.add(p)\n",
    "    print(names)\n",
    "    return names\n",
    "    # END SOLUTION\n"
   ]
  },
  {
   "cell_type": "code",
   "execution_count": 34,
   "metadata": {},
   "outputs": [
    {
     "name": "stdout",
     "output_type": "stream",
     "text": [
      "{'Amy', 'Frank', 'Emily', 'George', 'John', 'Mike', 'Mae'}\n"
     ]
    }
   ],
   "source": [
    "assert everyone(likes) == {'Amy', 'Mike', 'John', 'Emily', 'George', 'Frank', 'Mae'}"
   ]
  },
  {
   "cell_type": "code",
   "execution_count": 35,
   "metadata": {},
   "outputs": [
    {
     "name": "stdout",
     "output_type": "stream",
     "text": [
      "{'bar', 'foo'}\n"
     ]
    }
   ],
   "source": [
    "assert everyone({'foo': {'bar'}}) == {'foo', 'bar'}"
   ]
  },
  {
   "cell_type": "code",
   "execution_count": 36,
   "metadata": {},
   "outputs": [
    {
     "name": "stdout",
     "output_type": "stream",
     "text": [
      "{'foo'}\n"
     ]
    }
   ],
   "source": [
    "assert everyone({'foo': {}}) == {'foo'}"
   ]
  },
  {
   "cell_type": "code",
   "execution_count": 37,
   "metadata": {},
   "outputs": [
    {
     "name": "stdout",
     "output_type": "stream",
     "text": [
      "set()\n"
     ]
    }
   ],
   "source": [
    "assert everyone(dict()) == set()"
   ]
  },
  {
   "cell_type": "markdown",
   "metadata": {},
   "source": [
    "Question 2:  Write a function to determine who likes a specific person, based upon data in the dictionary. This is a matter of inverting the dictionary. "
   ]
  },
  {
   "cell_type": "code",
   "execution_count": 48,
   "metadata": {},
   "outputs": [],
   "source": [
    "def wholikes(person, data):\n",
    "    # BEGIN SOLUTION\n",
    "    res = set()\n",
    "    for k,v in data.items():\n",
    "        if person in list(v):\n",
    "            res.add(k)\n",
    "    return res\n",
    "\n",
    "    # END SOLUTION"
   ]
  },
  {
   "cell_type": "code",
   "execution_count": 49,
   "metadata": {},
   "outputs": [
    {
     "name": "stdout",
     "output_type": "stream",
     "text": [
      "who likes John?\n",
      "{'Mae'}\n",
      "who likes Amy?\n",
      "{'Emily', 'John'}\n"
     ]
    }
   ],
   "source": [
    "# Use this to test your code\n",
    "print(\"who likes John?\")\n",
    "pprint(wholikes('John', likes))\n",
    "print(\"who likes Amy?\")\n",
    "pprint(wholikes('Amy', likes))"
   ]
  },
  {
   "cell_type": "code",
   "execution_count": 50,
   "metadata": {},
   "outputs": [],
   "source": [
    "assert wholikes('Mike', likes) == {'Amy', 'John' } "
   ]
  },
  {
   "cell_type": "code",
   "execution_count": 51,
   "metadata": {},
   "outputs": [],
   "source": [
    "assert wholikes('cat', {'dog': {'cat'}}) == {'dog'}"
   ]
  },
  {
   "cell_type": "code",
   "execution_count": 52,
   "metadata": {
    "scrolled": true
   },
   "outputs": [],
   "source": [
    "assert wholikes('dog', {'dog': {'cat'}}) == set()"
   ]
  },
  {
   "cell_type": "code",
   "execution_count": 53,
   "metadata": {},
   "outputs": [],
   "source": [
    "assert wholikes('dog', dict()) == set()"
   ]
  },
  {
   "cell_type": "markdown",
   "metadata": {},
   "source": [
    "Question 3: Write a function to invert the whole structure so that it describes who is liked rather than who likes who. In this structure -- call it `d` -- `d[person]` is the number of people who like `person`. Hint: if there's not a set for a person, you have to create it. Test whether there's a set via `person in output`."
   ]
  },
  {
   "cell_type": "code",
   "execution_count": 74,
   "metadata": {},
   "outputs": [
    {
     "name": "stdout",
     "output_type": "stream",
     "text": [
      "{'Amy', 'Frank', 'Emily', 'George', 'John', 'Mike', 'Mae'}\n",
      "Amy\n"
     ]
    },
    {
     "ename": "TypeError",
     "evalue": "unhashable type: 'set'",
     "output_type": "error",
     "traceback": [
      "\u001b[0;31m---------------------------------------------------------------------------\u001b[0m",
      "\u001b[0;31mTypeError\u001b[0m                                 Traceback (most recent call last)",
      "Cell \u001b[0;32mIn[74], line 7\u001b[0m\n\u001b[1;32m      5\u001b[0m         \u001b[38;5;28mprint\u001b[39m(p)\n\u001b[1;32m      6\u001b[0m         d[p] \u001b[38;5;241m=\u001b[39m d\u001b[38;5;241m.\u001b[39mget(wholikes(p, data),{})\n\u001b[0;32m----> 7\u001b[0m \u001b[43minvert\u001b[49m\u001b[43m(\u001b[49m\u001b[43mlikes\u001b[49m\u001b[43m)\u001b[49m    \n",
      "Cell \u001b[0;32mIn[74], line 6\u001b[0m, in \u001b[0;36minvert\u001b[0;34m(data)\u001b[0m\n\u001b[1;32m      4\u001b[0m \u001b[38;5;28;01mfor\u001b[39;00m p \u001b[38;5;129;01min\u001b[39;00m everyone(data):\n\u001b[1;32m      5\u001b[0m     \u001b[38;5;28mprint\u001b[39m(p)\n\u001b[0;32m----> 6\u001b[0m     d[p] \u001b[38;5;241m=\u001b[39m \u001b[43md\u001b[49m\u001b[38;5;241;43m.\u001b[39;49m\u001b[43mget\u001b[49m\u001b[43m(\u001b[49m\u001b[43mwholikes\u001b[49m\u001b[43m(\u001b[49m\u001b[43mp\u001b[49m\u001b[43m,\u001b[49m\u001b[43m \u001b[49m\u001b[43mdata\u001b[49m\u001b[43m)\u001b[49m\u001b[43m,\u001b[49m\u001b[43m{\u001b[49m\u001b[43m}\u001b[49m\u001b[43m)\u001b[49m\n",
      "\u001b[0;31mTypeError\u001b[0m: unhashable type: 'set'"
     ]
    }
   ],
   "source": [
    "def invert(data):\n",
    "    # BEGIN SOLUTION\n",
    "    d = dict()\n",
    "    for p in everyone(data):\n",
    "        print(p)\n",
    "        print(wholikes(data)\n",
    "invert(likes)    "
   ]
  },
  {
   "cell_type": "code",
   "execution_count": 73,
   "metadata": {},
   "outputs": [
    {
     "name": "stdout",
     "output_type": "stream",
     "text": [
      "{'Amy', 'Frank', 'Emily', 'George', 'John', 'Mike', 'Mae'}\n"
     ]
    },
    {
     "ename": "TypeError",
     "evalue": "unhashable type: 'set'",
     "output_type": "error",
     "traceback": [
      "\u001b[0;31m---------------------------------------------------------------------------\u001b[0m",
      "\u001b[0;31mTypeError\u001b[0m                                 Traceback (most recent call last)",
      "Cell \u001b[0;32mIn[73], line 2\u001b[0m\n\u001b[1;32m      1\u001b[0m \u001b[38;5;66;03m# Use this cell to test your code: \u001b[39;00m\n\u001b[0;32m----> 2\u001b[0m pprint(\u001b[43minvert\u001b[49m\u001b[43m(\u001b[49m\u001b[43mlikes\u001b[49m\u001b[43m)\u001b[49m)\n",
      "Cell \u001b[0;32mIn[72], line 5\u001b[0m, in \u001b[0;36minvert\u001b[0;34m(data)\u001b[0m\n\u001b[1;32m      3\u001b[0m d \u001b[38;5;241m=\u001b[39m \u001b[38;5;28mdict\u001b[39m()\n\u001b[1;32m      4\u001b[0m \u001b[38;5;28;01mfor\u001b[39;00m p \u001b[38;5;129;01min\u001b[39;00m everyone(data):\n\u001b[0;32m----> 5\u001b[0m     d[p] \u001b[38;5;241m=\u001b[39m \u001b[43md\u001b[49m\u001b[38;5;241;43m.\u001b[39;49m\u001b[43mget\u001b[49m\u001b[43m(\u001b[49m\u001b[43mwholikes\u001b[49m\u001b[43m(\u001b[49m\u001b[43mp\u001b[49m\u001b[43m,\u001b[49m\u001b[43m \u001b[49m\u001b[43mdata\u001b[49m\u001b[43m)\u001b[49m\u001b[43m,\u001b[49m\u001b[43m{\u001b[49m\u001b[43m}\u001b[49m\u001b[43m)\u001b[49m\n",
      "\u001b[0;31mTypeError\u001b[0m: unhashable type: 'set'"
     ]
    }
   ],
   "source": [
    "# Use this cell to test your code: \n",
    "pprint(invert(likes))"
   ]
  },
  {
   "cell_type": "code",
   "execution_count": 70,
   "metadata": {},
   "outputs": [
    {
     "name": "stdout",
     "output_type": "stream",
     "text": [
      "{'cat', 'dog', 'rat'}\n"
     ]
    },
    {
     "ename": "AssertionError",
     "evalue": "",
     "output_type": "error",
     "traceback": [
      "\u001b[0;31m---------------------------------------------------------------------------\u001b[0m",
      "\u001b[0;31mAssertionError\u001b[0m                            Traceback (most recent call last)",
      "Cell \u001b[0;32mIn[70], line 1\u001b[0m\n\u001b[0;32m----> 1\u001b[0m \u001b[38;5;28;01massert\u001b[39;00m invert({\u001b[38;5;124m'\u001b[39m\u001b[38;5;124mdog\u001b[39m\u001b[38;5;124m'\u001b[39m: {\u001b[38;5;124m'\u001b[39m\u001b[38;5;124mcat\u001b[39m\u001b[38;5;124m'\u001b[39m, \u001b[38;5;124m'\u001b[39m\u001b[38;5;124mrat\u001b[39m\u001b[38;5;124m'\u001b[39m}}) \u001b[38;5;241m==\u001b[39m {\u001b[38;5;124m'\u001b[39m\u001b[38;5;124mcat\u001b[39m\u001b[38;5;124m'\u001b[39m: {\u001b[38;5;124m'\u001b[39m\u001b[38;5;124mdog\u001b[39m\u001b[38;5;124m'\u001b[39m}, \u001b[38;5;124m'\u001b[39m\u001b[38;5;124mrat\u001b[39m\u001b[38;5;124m'\u001b[39m:{\u001b[38;5;124m'\u001b[39m\u001b[38;5;124mdog\u001b[39m\u001b[38;5;124m'\u001b[39m}} \n",
      "\u001b[0;31mAssertionError\u001b[0m: "
     ]
    }
   ],
   "source": [
    "assert invert({'dog': {'cat', 'rat'}}) == {'cat': {'dog'}, 'rat':{'dog'}} "
   ]
  },
  {
   "cell_type": "code",
   "execution_count": null,
   "metadata": {},
   "outputs": [],
   "source": [
    "assert invert({'dog' : {'cat'}, 'rat': {'cat'}}) == {'cat' : {'rat', 'dog'}}"
   ]
  },
  {
   "cell_type": "code",
   "execution_count": null,
   "metadata": {
    "scrolled": true
   },
   "outputs": [],
   "source": [
    "assert invert(dict()) == dict()"
   ]
  },
  {
   "cell_type": "markdown",
   "metadata": {},
   "source": [
    "Question 4: Does it make any difference at all whether we use sets or lists inside `likes`? What is the difference if we use lists? "
   ]
  },
  {
   "cell_type": "markdown",
   "metadata": {},
   "source": [
    "It's typical for solutions to work equally well if the structures inside `likes` are sets or lists. Both are iterable, and most solutions only use abstract iteration. "
   ]
  },
  {
   "cell_type": "code",
   "execution_count": null,
   "metadata": {},
   "outputs": [],
   "source": [
    "# Test your solution on sets here. \n",
    "# BEGIN SOLUTION\n",
    "...\n",
    "# END SOLUTION "
   ]
  }
 ],
 "metadata": {
  "kernelspec": {
   "display_name": "Python 3 (ipykernel)",
   "language": "python",
   "name": "python3"
  },
  "language_info": {
   "codemirror_mode": {
    "name": "ipython",
    "version": 3
   },
   "file_extension": ".py",
   "mimetype": "text/x-python",
   "name": "python",
   "nbconvert_exporter": "python",
   "pygments_lexer": "ipython3",
   "version": "3.12.3"
  }
 },
 "nbformat": 4,
 "nbformat_minor": 2
}
