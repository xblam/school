{
 "cells": [
  {
   "cell_type": "code",
   "execution_count": 14,
   "metadata": {},
   "outputs": [
    {
     "name": "stdout",
     "output_type": "stream",
     "text": [
      "[1, 2, 10, 10]\n",
      "10\n",
      "<function fun at 0x105f03100>\n"
     ]
    }
   ],
   "source": [
    "def fun(foo,bar):\n",
    "    foo.append(bar)\n",
    "    foo.append(bardadsf\n",
    "    foo = [1,2,3] # at this point foo is assigned to something new \n",
    "    foo.append(bar) # sot hings afterwards does not influence it\n",
    "    bar = 0\n",
    "\n",
    "\n",
    "z = [1,2]\n",
    "\n",
    "w = 10\n",
    "fun(z,w)\n",
    "print(z)\n",
    "print(w)\n",
    "print(fun)\n"
   ]
  },
  {
   "cell_type": "code",
   "execution_count": 15,
   "metadata": {},
   "outputs": [
    {
     "name": "stdout",
     "output_type": "stream",
     "text": [
      "[1, 2, 3]\n"
     ]
    }
   ],
   "source": [
    "def bun(x):\n",
    "    x = [1,2]\n",
    "\n",
    "y = [1,2,3]\n",
    "bun(y)\n",
    "print(y)"
   ]
  },
  {
   "cell_type": "code",
   "execution_count": 16,
   "metadata": {},
   "outputs": [
    {
     "name": "stdout",
     "output_type": "stream",
     "text": [
      "[<function fun at 0x105f03100>, [1, 2, 3, 4, 20, 20], 20]\n",
      "<function fun at 0x105f03100>\n"
     ]
    }
   ],
   "source": [
    "doo = [fun,[1,2,3,4],20]\n",
    "doo[0](doo[1],doo[2])\n",
    "print(doo)\n",
    "print(fun)"
   ]
  },
  {
   "cell_type": "code",
   "execution_count": 23,
   "metadata": {},
   "outputs": [
    {
     "name": "stdout",
     "output_type": "stream",
     "text": [
      "['hi', 'ho', 'hi']\n"
     ]
    }
   ],
   "source": [
    "my_dict = dict()\n",
    "def foo():\n",
    "    return my_dict\n",
    "\n",
    "foo()[10] = 'hi'\n",
    "foo()[15]='ho'\n",
    "x = [foo()[10], foo()[15]]\n",
    "x.append(foo()[10])\n",
    "print(x)"
   ]
  },
  {
   "cell_type": "code",
   "execution_count": null,
   "metadata": {},
   "outputs": [],
   "source": [
    "x = Circle(7)"
   ]
  },
  {
   "cell_type": "code",
   "execution_count": 12,
   "metadata": {},
   "outputs": [],
   "source": [
    "PI = 3.14159\n",
    "class Square():\n",
    "    def __init__(self, width):\n",
    "        self.width = width\n",
    "\n",
    "    \n",
    "    def area(self):\n",
    "        self.area = self.width**2\n",
    "        return self.area\n",
    "\n",
    "    def larger_than(self, s):\n",
    "        if self.area > s.area:\n",
    "            return True\n",
    "        return False\n",
    "\n",
    "class Circle():\n",
    "    def __init__(self, rad):\n",
    "        self.rad = rad\n",
    "        self.area = rad**2 * PI\n",
    "    def area(self):\n",
    "        return self.area"
   ]
  },
  {
   "cell_type": "code",
   "execution_count": 15,
   "metadata": {},
   "outputs": [
    {
     "name": "stdout",
     "output_type": "stream",
     "text": [
      "16\n",
      "3.14159\n",
      "True\n"
     ]
    }
   ],
   "source": [
    "s = Square(4)\n",
    "print(s.area())\n",
    "c = Circle(1)\n",
    "print(c.area)\n",
    "\n",
    "print(s.larger_than(c))\n"
   ]
  },
  {
   "cell_type": "code",
   "execution_count": null,
   "metadata": {},
   "outputs": [],
   "source": []
  }
 ],
 "metadata": {
  "kernelspec": {
   "display_name": "ds30",
   "language": "python",
   "name": "python3"
  },
  "language_info": {
   "codemirror_mode": {
    "name": "ipython",
    "version": 3
   },
   "file_extension": ".py",
   "mimetype": "text/x-python",
   "name": "python",
   "nbconvert_exporter": "python",
   "pygments_lexer": "ipython3",
   "version": "3.12.5"
  }
 },
 "nbformat": 4,
 "nbformat_minor": 2
}
