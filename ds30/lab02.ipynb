{
 "cells": [
  {
   "cell_type": "markdown",
   "id": "dcfb2cd7",
   "metadata": {},
   "source": [
    "# Overview\n",
    "In this lab, we'll cover some basics of Python semantics, including functions, call-by-value, function arguments, and other semantic issues. "
   ]
  },
  {
   "cell_type": "markdown",
   "id": "9df64e85",
   "metadata": {},
   "source": [
    "1. Please write a function `hiho` with one optional argument `foo` that -- if `True` -- causes the function to return `'ho'`. Otherwise the function returns `'hi'`. If `foo` is not specified, it is considered to be `False`. "
   ]
  },
  {
   "cell_type": "code",
   "execution_count": 32,
   "id": "2616e1ec",
   "metadata": {},
   "outputs": [],
   "source": [
    "# BEGIN SOLUTION\n",
    "def hiho(foo=False):\n",
    "    if foo:\n",
    "        return('ho')\n",
    "    return('hi')\n",
    "# END SOLUTION "
   ]
  },
  {
   "cell_type": "code",
   "execution_count": 33,
   "id": "43c09139",
   "metadata": {},
   "outputs": [],
   "source": [
    "assert hiho()=='hi'"
   ]
  },
  {
   "cell_type": "code",
   "execution_count": 34,
   "id": "f583e068",
   "metadata": {},
   "outputs": [],
   "source": [
    "assert hiho(foo=True)=='ho'"
   ]
  },
  {
   "cell_type": "code",
   "execution_count": 35,
   "id": "fb8a298c",
   "metadata": {},
   "outputs": [],
   "source": [
    "assert hiho(foo=False)=='hi'"
   ]
  },
  {
   "cell_type": "markdown",
   "id": "1a8aec52",
   "metadata": {},
   "source": [
    "2. Now write a function `conc` that puts its arguments into a list. If an argument is a list, it concatenates it with the result. If an argument is not a list, it appends the argument to the result. 'conc' is short for 'concatenate'. This is a *polymorphic* function; what it does depends upon the types of its arguments. Hint: use the `*args` parameter to pick up arguments. Use `isinstance` to determine the type of each argument.\n",
    "\n",
    "Examples: \n",
    "```\n",
    "conc(1,2,3) --> [1,2,3]\n",
    "conc([1], [2, 3]) --> [1,2,3]\n",
    "conc([1], [], [2, 3], 4) --> [1,2,3,4]\n",
    "```\n",
    "Hint: you'll need to use `type(x)` to determine the type of each argument. "
   ]
  },
  {
   "cell_type": "code",
   "execution_count": 36,
   "id": "92bf54df",
   "metadata": {},
   "outputs": [],
   "source": [
    "# Enter your solution here\n",
    "# BEGIN SOLUTION\n",
    "def conc(*args): \n",
    "    res = []\n",
    "    for arg in args:\n",
    "        if type(arg) == list:\n",
    "            res += arg\n",
    "        else: res.append(arg)\n",
    "    print(res)\n",
    "    return res\n",
    "    ...\n",
    "# END SOLUTION "
   ]
  },
  {
   "cell_type": "code",
   "execution_count": 37,
   "id": "65681793",
   "metadata": {},
   "outputs": [
    {
     "name": "stdout",
     "output_type": "stream",
     "text": [
      "[1, 2, 3]\n"
     ]
    }
   ],
   "source": [
    "assert conc(1,2,3) == [1,2,3]"
   ]
  },
  {
   "cell_type": "code",
   "execution_count": 38,
   "id": "195f76a5",
   "metadata": {},
   "outputs": [
    {
     "name": "stdout",
     "output_type": "stream",
     "text": [
      "[2, 1, 4]\n"
     ]
    }
   ],
   "source": [
    "assert conc([2], 1, [], 4) == [2,1,4]"
   ]
  },
  {
   "cell_type": "code",
   "execution_count": 39,
   "id": "ff061bc3",
   "metadata": {},
   "outputs": [
    {
     "name": "stdout",
     "output_type": "stream",
     "text": [
      "[1, 2, 3]\n"
     ]
    }
   ],
   "source": [
    "assert conc([1], [2], [3]) == [1,2,3]"
   ]
  },
  {
   "cell_type": "code",
   "execution_count": 40,
   "id": "621bba2b",
   "metadata": {},
   "outputs": [
    {
     "name": "stdout",
     "output_type": "stream",
     "text": [
      "[1, (2, 3), 4]\n"
     ]
    }
   ],
   "source": [
    "assert conc([1], (2,3), 4) == [1, (2,3), 4]"
   ]
  },
  {
   "cell_type": "markdown",
   "id": "9b6b31fb",
   "metadata": {},
   "source": [
    "3. Write a lambda function that turns its argument into a list. It should transform tuples and sets into lists, and leave dicts alone. Hint: use inline `if` and `isinstance` to determine types. Put the function into a variable `trans`. "
   ]
  },
  {
   "cell_type": "code",
   "execution_count": 41,
   "id": "69e6d8c6",
   "metadata": {},
   "outputs": [],
   "source": [
    "# set trans to the lambda expression.\n",
    "# BEGIN SOLUTION\n",
    "trans = lambda x: x if isinstance(x,list) else list(x) if(isinstance(x,set) or isinstance(x,tuple)) else [x]\n",
    "# END SOLUTION"
   ]
  },
  {
   "cell_type": "code",
   "execution_count": 42,
   "id": "f9a7d625",
   "metadata": {},
   "outputs": [
    {
     "name": "stdout",
     "output_type": "stream",
     "text": [
      "[1]\n"
     ]
    }
   ],
   "source": [
    "assert trans(1) == [1]\n",
    "print(trans(1))"
   ]
  },
  {
   "cell_type": "code",
   "execution_count": 43,
   "id": "94505a7a",
   "metadata": {},
   "outputs": [],
   "source": [
    "assert trans({1,2,3}) == [1,2,3]"
   ]
  },
  {
   "cell_type": "code",
   "execution_count": 44,
   "id": "0b3087ad",
   "metadata": {},
   "outputs": [],
   "source": [
    "assert trans([1,2,3]) == [1,2,3]"
   ]
  },
  {
   "cell_type": "code",
   "execution_count": 45,
   "id": "7028717e",
   "metadata": {},
   "outputs": [],
   "source": [
    "assert trans((1,2,3)) == [1,2,3]"
   ]
  },
  {
   "cell_type": "markdown",
   "id": "9fa02685",
   "metadata": {},
   "source": [
    "4. Now write a function `sumnumb` that sums the numeric values contained in its arguments, which can be atoms, lists, tuples, or sets, while leaving the other arguments alone. It should return the sum. Hint: `isinstance(x, int)` is `True` if `x` is an `int`. `isinstance(x, float)` is `True` if `x` is a `float`.  "
   ]
  },
  {
   "cell_type": "code",
   "execution_count": 46,
   "id": "53437e0f",
   "metadata": {},
   "outputs": [
    {
     "data": {
      "text/plain": [
       "6"
      ]
     },
     "execution_count": 46,
     "metadata": {},
     "output_type": "execute_result"
    }
   ],
   "source": [
    "# BEGIN SOLUTION\n",
    "def sumnumb(*argv): \n",
    "    isnum = lambda x:(isinstance(x, float) or isinstance(x, int))\n",
    "    sum = 0\n",
    "    for arg in argv:\n",
    "        if isnum(arg):\n",
    "            sum += arg\n",
    "        else:\n",
    "            for i in arg:\n",
    "                if isnum(i):\n",
    "                    sum += i\n",
    "    return sum\n",
    "# END SOLUTION\n",
    "sumnumb([1,2,3])"
   ]
  },
  {
   "cell_type": "code",
   "execution_count": 47,
   "id": "193c664c",
   "metadata": {},
   "outputs": [],
   "source": [
    "assert sumnumb(1,2,3) == 6"
   ]
  },
  {
   "cell_type": "code",
   "execution_count": 48,
   "id": "ebabfed7",
   "metadata": {},
   "outputs": [],
   "source": [
    "assert sumnumb((1,2,3)) == 6"
   ]
  },
  {
   "cell_type": "code",
   "execution_count": 49,
   "id": "480f7716",
   "metadata": {},
   "outputs": [],
   "source": [
    "assert sumnumb({2,3,4}) == 9"
   ]
  },
  {
   "cell_type": "code",
   "execution_count": 50,
   "id": "b6250a11",
   "metadata": {},
   "outputs": [],
   "source": [
    "assert sumnumb([2,3,4]) == 9"
   ]
  },
  {
   "cell_type": "code",
   "execution_count": 51,
   "id": "bb91dcd8",
   "metadata": {},
   "outputs": [],
   "source": [
    "assert sumnumb([1,2], {3}, 4, (5,6,7)) == 28"
   ]
  },
  {
   "cell_type": "markdown",
   "id": "91f0239e",
   "metadata": {},
   "source": [
    "5. Now write a recursive function `sumrecur` that sums the numeric values contained in its arguments at any depth, where arguments can be atoms, lists, tuples, or sets, while leaving the non-numeric arguments alone. It should return the sum.  "
   ]
  },
  {
   "cell_type": "code",
   "execution_count": 52,
   "id": "fd08f1f4",
   "metadata": {},
   "outputs": [],
   "source": [
    "# BEGIN SOLUTION\n",
    "def sumrecur(*argv): \n",
    "   sum = 0\n",
    "   isnum = lambda x:isinstance(x, int) or isinstance(x,float) \n",
    "   for arg in argv:\n",
    "      if isnum(arg): sum += arg \n",
    "      else: sum += sumrecur(*arg)\n",
    "   return sum\n",
    "# END SOLUTION"
   ]
  },
  {
   "cell_type": "code",
   "execution_count": 53,
   "id": "6e2f76ef",
   "metadata": {},
   "outputs": [],
   "source": [
    "assert sumrecur(1,2,3) == 6"
   ]
  },
  {
   "cell_type": "code",
   "execution_count": 54,
   "id": "306a5112",
   "metadata": {},
   "outputs": [],
   "source": [
    "assert sumrecur((1,2,3)) == 6"
   ]
  },
  {
   "cell_type": "code",
   "execution_count": 55,
   "id": "1cfbd617",
   "metadata": {},
   "outputs": [],
   "source": [
    "assert sumrecur({2,3,4}) == 9"
   ]
  },
  {
   "cell_type": "code",
   "execution_count": 56,
   "id": "df18d34a",
   "metadata": {},
   "outputs": [],
   "source": [
    "assert sumrecur([2,3,4]) == 9"
   ]
  },
  {
   "cell_type": "code",
   "execution_count": 57,
   "id": "50b45ae3",
   "metadata": {},
   "outputs": [],
   "source": [
    "assert sumrecur([1,2], {3}, 4, (5,6,7)) == 28"
   ]
  },
  {
   "cell_type": "code",
   "execution_count": 58,
   "id": "b4461249",
   "metadata": {},
   "outputs": [],
   "source": [
    "assert sumrecur([1, [2, [3, 4]]]) == 10"
   ]
  },
  {
   "cell_type": "code",
   "execution_count": 59,
   "id": "d1a1c406",
   "metadata": {},
   "outputs": [],
   "source": [
    "assert sumrecur((1, 2, (3, 4))) == 10"
   ]
  },
  {
   "cell_type": "code",
   "execution_count": 60,
   "id": "7fbc746e",
   "metadata": {},
   "outputs": [],
   "source": [
    "assert sumrecur((1, [2], [[3]], [[[4]]])) == 10"
   ]
  },
  {
   "cell_type": "code",
   "execution_count": 61,
   "id": "111fa0ab",
   "metadata": {},
   "outputs": [],
   "source": [
    "assert sumrecur([1, (2), ((3,),),  {4}]) == 10"
   ]
  },
  {
   "cell_type": "code",
   "execution_count": 62,
   "id": "2fdb6e8a",
   "metadata": {},
   "outputs": [],
   "source": [
    "assert sumrecur([[1, 2], (3, 4), {5, 6}]) == 21"
   ]
  }
 ],
 "metadata": {
  "kernelspec": {
   "display_name": "Python 3 (ipykernel)",
   "language": "python",
   "name": "python3"
  },
  "language_info": {
   "codemirror_mode": {
    "name": "ipython",
    "version": 3
   },
   "file_extension": ".py",
   "mimetype": "text/x-python",
   "name": "python",
   "nbconvert_exporter": "python",
   "pygments_lexer": "ipython3",
   "version": "3.12.3"
  }
 },
 "nbformat": 4,
 "nbformat_minor": 5
}
