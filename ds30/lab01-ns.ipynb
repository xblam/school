{
 "cells": [
  {
   "cell_type": "markdown",
   "id": "dcfb2cd7",
   "metadata": {},
   "source": [
    "# Overview\n",
    "In this lab, we'll deal with several practical issues in Jupyter, including: \n",
    "1. Basic editing. \n",
    "   * Of text content. \n",
    "   * Of code cells. \n",
    "2. The semantics of Jupyter cells\n",
    "   * Global variables. \n",
    "   * The kernel as a memory device. \n",
    "3. Computation in Jupyter\n",
    "\n",
    "For those who brought laptops to the lab, we'll also deal with: \n",
    "\n",
    "4. Installing Anaconda/Jupyter on your personal laptop. \n",
    "\n",
    "## The rules of engagement:\n",
    "\n",
    "1. Don't expect the notebook to contain all the answers. You will need to look up things on the internet. \n",
    "2. When you see a ... in a cell, it indicates that you have something to fill in. \n",
    "3. You can run grading cells to check your work. \n",
    "4. To receive credit for this lab, you must submit this notebook to GradeScope: \n",
    "    * Export the notebook to a zipfile as noted in the last cell. \n",
    "    * Download this zipfile. \n",
    "    * Login to GradeScope. \n",
    "    * Upload the zipfile as a submission for the appropriate Lab. "
   ]
  },
  {
   "cell_type": "markdown",
   "id": "6ab69c33",
   "metadata": {},
   "source": [
    "# Part 1: Text markup\n",
    "\n",
    "In the cell below, please write a brief biography of yourself, including the following sections\n",
    "* Education\n",
    "* Hobbies and pastimes \n",
    "* Extra-curricular activities\n",
    "* Goals you have from taking this course. \n",
    "\n",
    "Use lists to document each of these kinds of information. \n",
    "\n",
    "In each section, emphasize the first sentence that should provide an overview of the section. Use what is often called \"top-down\" or \"deductive\" style, in which every paragraph starts with a topic sentence that describes what the paragraph will contain. "
   ]
  },
  {
   "cell_type": "markdown",
   "id": "cd336d3b",
   "metadata": {},
   "source": [
    "Your answer: \n",
    "* Education - I am currently an undergrad majoring in data science and economics\n",
    "* Hobbies and pastimes - I like biking, working out, playing guitar, videogames, caving, and travelling\n",
    "* Extra-curricular activities - I am currently part of VSC, Tufts AI, and csx\n",
    "* Goals you have from taking this course. - I want to get better at data science and python, and I also want to graduate"
   ]
  },
  {
   "cell_type": "markdown",
   "id": "442578ec",
   "metadata": {},
   "source": [
    "# Part 2: Cells, kernels, and variables\n",
    "\n",
    "1. Run the following two cells in order."
   ]
  },
  {
   "cell_type": "code",
   "execution_count": 3,
   "id": "094a68cd",
   "metadata": {},
   "outputs": [],
   "source": [
    "x = 1"
   ]
  },
  {
   "cell_type": "code",
   "execution_count": 4,
   "id": "59e54034",
   "metadata": {},
   "outputs": [
    {
     "data": {
      "text/plain": [
       "1"
      ]
     },
     "execution_count": 4,
     "metadata": {},
     "output_type": "execute_result"
    }
   ],
   "source": [
    "x"
   ]
  },
  {
   "cell_type": "markdown",
   "id": "91868d4d",
   "metadata": {},
   "source": [
    "What happens? "
   ]
  },
  {
   "cell_type": "markdown",
   "id": "879c262d",
   "metadata": {},
   "source": [
    "Your answer: we get that the value of x is equal to 1"
   ]
  },
  {
   "cell_type": "markdown",
   "id": "b2049adb",
   "metadata": {},
   "source": [
    "2. Now run the following cell and then the previous cell. "
   ]
  },
  {
   "cell_type": "code",
   "execution_count": null,
   "id": "c12da315",
   "metadata": {},
   "outputs": [
    {
     "name": "stdout",
     "output_type": "stream",
     "text": [
      "foo\n"
     ]
    }
   ],
   "source": [
    "x = \"foo\" "
   ]
  },
  {
   "cell_type": "markdown",
   "id": "d7f2536e",
   "metadata": {},
   "source": [
    "What happens? "
   ]
  },
  {
   "cell_type": "markdown",
   "id": "03619af2",
   "metadata": {},
   "source": [
    "Your answer: the value of x is now set to 'foo'"
   ]
  },
  {
   "cell_type": "markdown",
   "id": "65f2136d",
   "metadata": {},
   "source": [
    "3. Now select `Kernel/Restart and clear output` in the top menu and then run the following cell. "
   ]
  },
  {
   "cell_type": "code",
   "execution_count": 1,
   "id": "f05ab9ec",
   "metadata": {},
   "outputs": [
    {
     "ename": "NameError",
     "evalue": "name 'x' is not defined",
     "output_type": "error",
     "traceback": [
      "\u001b[0;31m---------------------------------------------------------------------------\u001b[0m",
      "\u001b[0;31mNameError\u001b[0m                                 Traceback (most recent call last)",
      "Cell \u001b[0;32mIn[1], line 1\u001b[0m\n\u001b[0;32m----> 1\u001b[0m \u001b[43mx\u001b[49m\n",
      "\u001b[0;31mNameError\u001b[0m: name 'x' is not defined"
     ]
    }
   ],
   "source": [
    "x"
   ]
  },
  {
   "cell_type": "markdown",
   "id": "c2ec795d",
   "metadata": {},
   "source": [
    "What happens? "
   ]
  },
  {
   "cell_type": "markdown",
   "id": "a3b53755",
   "metadata": {},
   "source": [
    "Your answer: since we have restarted the kernel and deleted all outputs x has no value and is not defined"
   ]
  },
  {
   "cell_type": "markdown",
   "id": "484f077e",
   "metadata": {},
   "source": [
    "## The moral of this story\n",
    "The variable x retains its value between cells, but can be cleared by a `Kernel/Restart` operation. "
   ]
  },
  {
   "cell_type": "markdown",
   "id": "59b0552b",
   "metadata": {},
   "source": [
    "# Part 3: Lists and medians\n",
    "Consider the following cell of python. "
   ]
  },
  {
   "cell_type": "code",
   "execution_count": 13,
   "id": "21140305",
   "metadata": {},
   "outputs": [
    {
     "data": {
      "text/plain": [
       "[10, 5, 4, 7, 7, 9, 8]"
      ]
     },
     "execution_count": 13,
     "metadata": {},
     "output_type": "execute_result"
    }
   ],
   "source": [
    "scores = [10, 5, 4, 7, 7, 9, 8]\n",
    "scores"
   ]
  },
  {
   "cell_type": "raw",
   "id": "b6607ed0",
   "metadata": {},
   "source": [
    "# BEGIN QUESTION\n",
    "name: part3q1"
   ]
  },
  {
   "cell_type": "markdown",
   "id": "01756fc5",
   "metadata": {},
   "source": [
    "1. Please write code that sorts this list into increasing order. Hint: look up the python `sort` function. "
   ]
  },
  {
   "cell_type": "raw",
   "id": "9a7cf0a7",
   "metadata": {},
   "source": [
    "# BEGIN SOLUTION"
   ]
  },
  {
   "cell_type": "code",
   "execution_count": 14,
   "id": "76706d7b",
   "metadata": {},
   "outputs": [
    {
     "name": "stdout",
     "output_type": "stream",
     "text": [
      "[4, 5, 7, 7, 8, 9, 10]\n"
     ]
    }
   ],
   "source": [
    "# BEGIN SOLUTION\n",
    "# END SOLUTION\n",
    "scores.sort()\n",
    "print(scores)"
   ]
  },
  {
   "cell_type": "raw",
   "id": "a1834e25",
   "metadata": {},
   "source": [
    "# END SOLUTION"
   ]
  },
  {
   "cell_type": "raw",
   "id": "b63a6ae4",
   "metadata": {},
   "source": [
    "# BEGIN TESTS"
   ]
  },
  {
   "cell_type": "code",
   "execution_count": 15,
   "id": "0858f93a",
   "metadata": {},
   "outputs": [],
   "source": [
    "assert scores == [4, 5, 7, 7, 8, 9, 10]"
   ]
  },
  {
   "cell_type": "raw",
   "id": "45645707",
   "metadata": {},
   "source": [
    "# END TESTS"
   ]
  },
  {
   "cell_type": "raw",
   "id": "4167727e",
   "metadata": {},
   "source": [
    "# END QUESTION"
   ]
  },
  {
   "cell_type": "raw",
   "id": "f58419b8",
   "metadata": {},
   "source": [
    "# BEGIN QUESTION\n",
    "name: part3q2"
   ]
  },
  {
   "cell_type": "markdown",
   "id": "ea2cd719",
   "metadata": {},
   "source": [
    "2. What is the median of this list of scores (just look at the list and write down the result)?"
   ]
  },
  {
   "cell_type": "raw",
   "id": "e8a96c49",
   "metadata": {},
   "source": [
    "# BEGIN SOLUTION"
   ]
  },
  {
   "cell_type": "code",
   "execution_count": 17,
   "id": "39562d47",
   "metadata": {},
   "outputs": [],
   "source": [
    "# set median to a value\n",
    "median = 7\n",
    "# BEGIN SOLUTION\n",
    "# END SOLUTION"
   ]
  },
  {
   "cell_type": "raw",
   "id": "81e3c71c",
   "metadata": {},
   "source": [
    "# END SOLUTION"
   ]
  },
  {
   "cell_type": "raw",
   "id": "36be1077",
   "metadata": {},
   "source": [
    "# BEGIN TESTS"
   ]
  },
  {
   "cell_type": "code",
   "execution_count": 18,
   "id": "b0967610",
   "metadata": {},
   "outputs": [],
   "source": [
    "assert median == 7"
   ]
  },
  {
   "cell_type": "raw",
   "id": "e1d2c9f0",
   "metadata": {},
   "source": [
    "# END TESTS"
   ]
  },
  {
   "cell_type": "raw",
   "id": "96818ec9",
   "metadata": {},
   "source": [
    "# END QUESTION"
   ]
  },
  {
   "cell_type": "raw",
   "id": "bed10b21",
   "metadata": {},
   "source": [
    "# BEGIN QUESTION\n",
    "name: part3q3"
   ]
  },
  {
   "cell_type": "markdown",
   "id": "9df64e85",
   "metadata": {},
   "source": [
    "3. Please write a python code fragment to compute the median of `scores`. Place the median into `result`. Hint: look up `len`, `list[x]`. "
   ]
  },
  {
   "cell_type": "raw",
   "id": "af0bc6fe",
   "metadata": {},
   "source": [
    "# BEGIN SOLUTION"
   ]
  },
  {
   "cell_type": "code",
   "execution_count": 39,
   "id": "2616e1ec",
   "metadata": {},
   "outputs": [],
   "source": [
    "# set result to the appropriate value \n",
    "# BEGIN SOLUTION\n",
    "def get_median(my_list):\n",
    "    mid = len(my_list)//2\n",
    "    if len(my_list)%2 == 0: # the length of the list is even\n",
    "        median = (my_list[mid-1]+my_list[mid])/2\n",
    "    else:\n",
    "        median = my_list[mid]\n",
    "    return median\n",
    "\n",
    "# END SOLUTION \n",
    "result = get_median(scores)"
   ]
  },
  {
   "cell_type": "raw",
   "id": "10a5d08c",
   "metadata": {},
   "source": [
    "# END SOLUTION"
   ]
  },
  {
   "cell_type": "raw",
   "id": "f9f17093",
   "metadata": {},
   "source": [
    "# BEGIN TESTS"
   ]
  },
  {
   "cell_type": "code",
   "execution_count": 40,
   "id": "43c09139",
   "metadata": {},
   "outputs": [],
   "source": [
    "assert result == 7"
   ]
  },
  {
   "cell_type": "raw",
   "id": "6502af5e",
   "metadata": {},
   "source": [
    "# END TESTS"
   ]
  },
  {
   "cell_type": "raw",
   "id": "c74ce186",
   "metadata": {},
   "source": [
    "# END QUESTION"
   ]
  },
  {
   "cell_type": "raw",
   "id": "278fdd1e",
   "metadata": {},
   "source": [
    "# BEGIN QUESTION\n",
    "name: part3q4"
   ]
  },
  {
   "cell_type": "markdown",
   "id": "1a8aec52",
   "metadata": {},
   "source": [
    "4. Now consider the list given below: "
   ]
  },
  {
   "cell_type": "code",
   "execution_count": 41,
   "id": "65046a77",
   "metadata": {},
   "outputs": [
    {
     "data": {
      "text/plain": [
       "[10, 5, 4, 7, 7, 9, 8, 10]"
      ]
     },
     "execution_count": 41,
     "metadata": {},
     "output_type": "execute_result"
    }
   ],
   "source": [
    "scores2 = [10, 5, 4, 7, 7, 9, 8, 10]\n",
    "scores2"
   ]
  },
  {
   "cell_type": "markdown",
   "id": "fd17efe3",
   "metadata": {},
   "source": [
    "5. What is the median of this list? Hint: average the middle two elements. "
   ]
  },
  {
   "cell_type": "raw",
   "id": "a9ba6f64",
   "metadata": {},
   "source": [
    "# BEGIN SOLUTION"
   ]
  },
  {
   "cell_type": "code",
   "execution_count": 42,
   "id": "92bf54df",
   "metadata": {},
   "outputs": [
    {
     "name": "stdout",
     "output_type": "stream",
     "text": [
      "[4, 5, 7, 7, 8, 9, 10, 10]\n",
      "7.5\n"
     ]
    },
    {
     "data": {
      "text/plain": [
       "7.5"
      ]
     },
     "execution_count": 42,
     "metadata": {},
     "output_type": "execute_result"
    }
   ],
   "source": [
    "# set median2 to the appropriate value\n",
    "# BEGIN SOLUTION\n",
    "scores2.sort()\n",
    "print(scores2)\n",
    "median2 = get_median(scores2)\n",
    "print(median2)\n",
    "# END SOLUTION \n",
    "median2"
   ]
  },
  {
   "cell_type": "raw",
   "id": "9f4ee622",
   "metadata": {},
   "source": [
    "# END SOLUTION"
   ]
  },
  {
   "cell_type": "raw",
   "id": "ac308a9e",
   "metadata": {},
   "source": [
    "# BEGIN TESTS"
   ]
  },
  {
   "cell_type": "code",
   "execution_count": 44,
   "id": "65681793",
   "metadata": {},
   "outputs": [],
   "source": [
    "assert median2 == 7.5"
   ]
  },
  {
   "cell_type": "raw",
   "id": "c50bd78a",
   "metadata": {},
   "source": [
    "# END TESTS"
   ]
  },
  {
   "cell_type": "raw",
   "id": "b1c1301f",
   "metadata": {},
   "source": [
    "# END QUESTION"
   ]
  },
  {
   "cell_type": "raw",
   "id": "6e15cdee",
   "metadata": {},
   "source": [
    "# BEGIN QUESTION\n",
    "name: part3q6"
   ]
  },
  {
   "cell_type": "markdown",
   "id": "9b6b31fb",
   "metadata": {},
   "source": [
    "6. Write a python code fragment to compute the median of `scores2`. put the result into `result2`. "
   ]
  },
  {
   "cell_type": "raw",
   "id": "dbcf2634",
   "metadata": {},
   "source": [
    "# BEGIN SOLUTION"
   ]
  },
  {
   "cell_type": "code",
   "execution_count": 45,
   "id": "69e6d8c6",
   "metadata": {},
   "outputs": [
    {
     "data": {
      "text/plain": [
       "7.5"
      ]
     },
     "execution_count": 45,
     "metadata": {},
     "output_type": "execute_result"
    }
   ],
   "source": [
    "# set result2 to the appropriate value\n",
    "# BEGIN SOLUTION\n",
    "result2 = get_median(scores2)\n",
    "# END SOLUTION\n",
    "result2"
   ]
  },
  {
   "cell_type": "raw",
   "id": "c0f8d680",
   "metadata": {},
   "source": [
    "# END SOLUTION"
   ]
  },
  {
   "cell_type": "raw",
   "id": "025883b4",
   "metadata": {},
   "source": [
    "# BEGIN TESTS"
   ]
  },
  {
   "cell_type": "code",
   "execution_count": 46,
   "id": "f9a7d625",
   "metadata": {},
   "outputs": [],
   "source": [
    "assert result2 == 7.5"
   ]
  },
  {
   "cell_type": "raw",
   "id": "9fdb9865",
   "metadata": {},
   "source": [
    "# END TESTS"
   ]
  },
  {
   "cell_type": "raw",
   "id": "f94b1d35",
   "metadata": {},
   "source": [
    "# END QUESTION"
   ]
  },
  {
   "cell_type": "raw",
   "id": "a683c98c",
   "metadata": {},
   "source": [
    "# BEGIN QUESTION\n",
    "name: part3q7"
   ]
  },
  {
   "cell_type": "markdown",
   "id": "9fa02685",
   "metadata": {},
   "source": [
    "7. Now combine these into a python function to compute the median, starting with the template that follows. Hint: use \n",
    "\n",
    "        if len(x)%2 == 0: \n",
    "   \n",
    "   to determine when a number of elements is even. "
   ]
  },
  {
   "cell_type": "raw",
   "id": "5aa72ad5",
   "metadata": {},
   "source": [
    "# BEGIN SOLUTION"
   ]
  },
  {
   "cell_type": "code",
   "execution_count": 60,
   "id": "53437e0f",
   "metadata": {},
   "outputs": [],
   "source": [
    "def med(x): \n",
    "# BEGIN SOLUTION\n",
    "    x.sort()\n",
    "    mid = len(x)//2\n",
    "    if len(x)%2 == 0: # the length of the list is even\n",
    "        median = (x[mid-1]+x[mid])/2\n",
    "    else:\n",
    "        median = x[mid]\n",
    "    return median\n",
    "   \n",
    "# END SOLUTION"
   ]
  },
  {
   "cell_type": "raw",
   "id": "d1f77191",
   "metadata": {},
   "source": [
    "# END SOLUTION"
   ]
  },
  {
   "cell_type": "raw",
   "id": "7eafeb4f",
   "metadata": {},
   "source": [
    "# BEGIN TESTS"
   ]
  },
  {
   "cell_type": "code",
   "execution_count": 61,
   "id": "193c664c",
   "metadata": {},
   "outputs": [],
   "source": [
    "assert med([1,2,3]) == 2\n"
   ]
  },
  {
   "cell_type": "code",
   "execution_count": 62,
   "id": "ebabfed7",
   "metadata": {},
   "outputs": [],
   "source": [
    "assert med([1,2,2,3]) == 2"
   ]
  },
  {
   "cell_type": "code",
   "execution_count": 63,
   "id": "480f7716",
   "metadata": {},
   "outputs": [],
   "source": [
    "assert med([2,2,1,3]) == 2"
   ]
  },
  {
   "cell_type": "raw",
   "id": "c2e5e74f",
   "metadata": {},
   "source": [
    "# END TESTS"
   ]
  },
  {
   "cell_type": "raw",
   "id": "51415f92",
   "metadata": {},
   "source": [
    "# END QUESTION"
   ]
  }
 ],
 "metadata": {
  "kernelspec": {
   "display_name": "Python 3 (ipykernel)",
   "language": "python",
   "name": "python3"
  },
  "language_info": {
   "codemirror_mode": {
    "name": "ipython",
    "version": 3
   },
   "file_extension": ".py",
   "mimetype": "text/x-python",
   "name": "python",
   "nbconvert_exporter": "python",
   "pygments_lexer": "ipython3",
   "version": "3.12.5"
  }
 },
 "nbformat": 4,
 "nbformat_minor": 5
}
